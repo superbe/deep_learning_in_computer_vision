{
 "cells": [
  {
   "cell_type": "markdown",
   "metadata": {},
   "source": [
    "# Курс «Глубокое обучение в компьютерном зрении»"
   ]
  },
  {
   "cell_type": "markdown",
   "metadata": {},
   "source": [
    "### Урок 4. Семантическая сегментация"
   ]
  },
  {
   "cell_type": "markdown",
   "metadata": {},
   "source": [
    "### Домашнее задание к уроку 4"
   ]
  },
  {
   "cell_type": "markdown",
   "metadata": {},
   "source": [
    "Обучить модель семантической сегментации (человек-vs-фон) на подмножестве датасета MS COCO\n",
    "Библиотеки: [Python, Tensorflow]"
   ]
  },
  {
   "cell_type": "code",
   "execution_count": 14,
   "metadata": {},
   "outputs": [],
   "source": [
    "import random\n",
    "import imageio\n",
    "import os\n",
    "import skimage.io as io\n",
    "import numpy as np\n",
    "\n",
    "import matplotlib.pyplot as plt\n",
    "\n",
    "import tensorflow as tf\n",
    "from pycocotools.coco import COCO"
   ]
  },
  {
   "cell_type": "markdown",
   "metadata": {},
   "source": [
    "## Загрузка датасета COCO и COCO API"
   ]
  },
  {
   "cell_type": "markdown",
   "metadata": {},
   "source": [
    "Для начала готовим кастомный датасет"
   ]
  },
  {
   "cell_type": "code",
   "execution_count": 5,
   "metadata": {},
   "outputs": [
    {
     "name": "stdout",
     "output_type": "stream",
     "text": [
      "Active code page: 65001\n"
     ]
    }
   ],
   "source": [
    "# Устанавливаем номальную кодировку, чтобы хотя бы по английски все отображалось\n",
    "!chcp 65001"
   ]
  },
  {
   "cell_type": "code",
   "execution_count": 8,
   "metadata": {},
   "outputs": [],
   "source": [
    "# Если не устанвлен API для датасета, устанавливаем его\n",
    "# !pip install pycocotools"
   ]
  },
  {
   "cell_type": "code",
   "execution_count": 7,
   "metadata": {},
   "outputs": [],
   "source": [
    "# !pip install pycoco"
   ]
  },
  {
   "cell_type": "code",
   "execution_count": 13,
   "metadata": {},
   "outputs": [],
   "source": [
    "# Переходим в папку где находятся наши датасеты, заранее загруженные и распакованные.\n",
    "!cd D:\\DZ\\COCO"
   ]
  },
  {
   "cell_type": "code",
   "execution_count": 15,
   "metadata": {},
   "outputs": [],
   "source": [
    "COCO_ROOT = 'D:\\DZ\\COCO'"
   ]
  },
  {
   "cell_type": "markdown",
   "metadata": {},
   "source": [
    "## Универсальный класс Dataset для сегментации"
   ]
  },
  {
   "cell_type": "code",
   "execution_count": 17,
   "metadata": {},
   "outputs": [],
   "source": [
    "class Dataset():\n",
    "\n",
    "    def crop_images(self, img, inp_size, random_crop=False):\n",
    "        shape = tf.shape(img)\n",
    "        pad = (\n",
    "            [0, tf.maximum(inp_size - shape[0], 0)],\n",
    "            [0, tf.maximum(inp_size - shape[1], 0)],\n",
    "            [0, 0],\n",
    "        )\n",
    "        img = tf.pad(img, pad)\n",
    "\n",
    "        if random_crop:\n",
    "            img = tf.image.random_crop(img, (inp_size, inp_size, shape[2]))\n",
    "        else: # central crop\n",
    "            shape = tf.shape(img)\n",
    "            ho = (shape[0] - inp_size) // 2\n",
    "            wo = (shape[1] - inp_size) // 2\n",
    "            img = img[ho:ho+inp_size, wo:wo+inp_size, :]\n",
    "\n",
    "        return img\n",
    "\n",
    "    def train_dataset(self, batch_size, epochs, inp_size):\n",
    "\n",
    "        def item_to_images(item):\n",
    "            random_crop = True\n",
    "            img_combined = tf.py_function(self.read_images, [item], tf.uint8)\n",
    "            img_combined = self.crop_images(img_combined, inp_size, random_crop)\n",
    "\n",
    "            img = tf.cast(img_combined[...,:3], tf.float32) / np.float32(255.)\n",
    "            mask_class = tf.cast(img_combined[...,3:4], tf.float32)\n",
    "            return img, mask_class\n",
    "\n",
    "        dataset = tf.data.Dataset.from_tensor_slices(self.img_list)\n",
    "        dataset = dataset.shuffle(buffer_size=len(self.img_list))\n",
    "        dataset = dataset.map(item_to_images)\n",
    "        dataset = dataset.repeat(epochs)\n",
    "        dataset = dataset.batch(batch_size, drop_remainder=True)\n",
    "\n",
    "        return dataset\n",
    "\n",
    "    def val_dataset(self, batch_size, inp_size):\n",
    "\n",
    "        def item_to_images(item):\n",
    "            random_crop = False\n",
    "            img_combined = tf.py_function(self.read_images, [item], tf.uint8)\n",
    "            img_combined = self.crop_images(img_combined, inp_size, random_crop)\n",
    "\n",
    "            img = tf.cast(img_combined[...,:3], tf.float32) / np.float32(255.)\n",
    "            mask_class = tf.cast(img_combined[...,3:4], tf.float32)\n",
    "            return img, mask_class\n",
    "\n",
    "        dataset = tf.data.Dataset.from_tensor_slices(self.img_list)\n",
    "        dataset = dataset.map(item_to_images)\n",
    "        dataset = dataset.batch(batch_size, drop_remainder=True)\n",
    "\n",
    "        return dataset"
   ]
  },
  {
   "cell_type": "markdown",
   "metadata": {},
   "source": [
    "## Класс для сегментационного датасета COCO\n",
    "Класс наследутся от универсльного `Dataset` и реализует кастомную функцию чтения данных."
   ]
  },
  {
   "cell_type": "code",
   "execution_count": 18,
   "metadata": {},
   "outputs": [],
   "source": [
    "class COCO_Dataset(Dataset):\n",
    "\n",
    "    def __init__(self, sublist):\n",
    "        ann_file_fpath = os.path.join(COCO_ROOT, 'annotations', 'instances_'+sublist+'2017.json')\n",
    "        self.coco = COCO(ann_file_fpath)\n",
    "        self.cat_ids = self.coco.getCatIds(catNms=['person'])\n",
    "        self.img_list = self.coco.getImgIds(catIds=self.cat_ids)\n",
    "\n",
    "    def read_images(self, img_id):\n",
    "        img_id = int(img_id.numpy())\n",
    "        img_data = self.coco.loadImgs(img_id)[0]\n",
    "        img_fname = '/'.join(img_data['coco_url'].split('/')[-2:])\n",
    "\n",
    "        img = io.imread(os.path.join(COCO_ROOT, img_fname))\n",
    "        if len(img.shape) == 2:\n",
    "            img = np.tile(img[..., None], (1, 1, 3))\n",
    "\n",
    "        ann_ids = self.coco.getAnnIds(imgIds=img_data['id'], catIds=self.cat_ids, iscrowd=None)\n",
    "        anns = self.coco.loadAnns(ann_ids)\n",
    "        mask_class = np.zeros((img.shape[0], img.shape[1]), dtype=np.uint8)\n",
    "        for i in range(len(anns)):\n",
    "            mask_class += self.coco.annToMask(anns[i])\n",
    "        mask_class = (mask_class > 0).astype(np.uint8)\n",
    "\n",
    "        img_combined = np.concatenate([img, mask_class[..., None]], axis=2)\n",
    "\n",
    "        return img_combined"
   ]
  },
  {
   "cell_type": "code",
   "execution_count": 19,
   "metadata": {},
   "outputs": [
    {
     "name": "stdout",
     "output_type": "stream",
     "text": [
      "loading annotations into memory...\n",
      "Done (t=42.56s)\n",
      "creating index...\n",
      "index created!\n",
      "loading annotations into memory...\n",
      "Done (t=0.78s)\n",
      "creating index...\n",
      "index created!\n"
     ]
    }
   ],
   "source": [
    "COCO_dataset_train = COCO_Dataset('train')\n",
    "COCO_dataset_val = COCO_Dataset('val')"
   ]
  },
  {
   "cell_type": "markdown",
   "metadata": {},
   "source": [
    "В доделке"
   ]
  },
  {
   "cell_type": "code",
   "execution_count": null,
   "metadata": {},
   "outputs": [],
   "source": []
  }
 ],
 "metadata": {
  "kernelspec": {
   "display_name": "Python 3",
   "language": "python",
   "name": "python3"
  },
  "language_info": {
   "codemirror_mode": {
    "name": "ipython",
    "version": 3
   },
   "file_extension": ".py",
   "mimetype": "text/x-python",
   "name": "python",
   "nbconvert_exporter": "python",
   "pygments_lexer": "ipython3",
   "version": "3.7.6"
  }
 },
 "nbformat": 4,
 "nbformat_minor": 4
}
